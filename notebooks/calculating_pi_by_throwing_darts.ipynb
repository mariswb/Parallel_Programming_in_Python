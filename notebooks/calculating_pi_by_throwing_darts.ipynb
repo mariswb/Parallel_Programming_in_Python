{
 "cells": [
  {
   "cell_type": "markdown",
   "id": "f4e2cd68",
   "metadata": {},
   "source": [
    "# Calcuting Pi by Throwing Darts (serial)"
   ]
  },
  {
   "cell_type": "code",
   "execution_count": 1,
   "id": "226e8198",
   "metadata": {},
   "outputs": [],
   "source": [
    "import os\n",
    "os.environ[\"MKL_NUM_THREADS\"] = \"1\"\n",
    "os.environ[\"OMP_NUM_THREADS\"] = \"1\"\n",
    "os.environ[\"NUMEXPR_NUM_THREADS\"] = \"1\"\n",
    "import numpy as np"
   ]
  },
  {
   "cell_type": "code",
   "execution_count": 2,
   "id": "180d7680",
   "metadata": {},
   "outputs": [],
   "source": [
    "def calculate_pi(darts):\n",
    "    x = np.random.uniform(-1, 1, darts)\n",
    "    y = np.random.uniform(-1, 1, darts)\n",
    "    r_sq = x**2 + y**2\n",
    "    return 4*np.sum(r_sq<1)/darts"
   ]
  },
  {
   "cell_type": "code",
   "execution_count": 3,
   "id": "0fb39711",
   "metadata": {},
   "outputs": [
    {
     "data": {
      "text/plain": [
       "3.1444"
      ]
     },
     "execution_count": 3,
     "metadata": {},
     "output_type": "execute_result"
    }
   ],
   "source": [
    "calculate_pi(10000)"
   ]
  },
  {
   "cell_type": "code",
   "execution_count": 4,
   "id": "48c1606c",
   "metadata": {},
   "outputs": [
    {
     "name": "stdout",
     "output_type": "stream",
     "text": [
      "197 µs ± 58.7 ns per loop (mean ± std. dev. of 7 runs, 10000 loops each)\n"
     ]
    }
   ],
   "source": [
    "%timeit calculate_pi(10000)"
   ]
  },
  {
   "cell_type": "markdown",
   "id": "6e42592b",
   "metadata": {},
   "source": [
    "# Parallelization with multiprocessing.Process"
   ]
  },
  {
   "cell_type": "code",
   "execution_count": 5,
   "id": "100a9c49",
   "metadata": {},
   "outputs": [],
   "source": [
    "import multiprocessing\n",
    "from multiprocessing import Process"
   ]
  },
  {
   "cell_type": "code",
   "execution_count": 6,
   "id": "d5954487",
   "metadata": {},
   "outputs": [],
   "source": [
    "def calculate_pi_serial(darts, queue):\n",
    "    \"\"\"calculate pi and store it in a queue (serial function)\"\"\"\n",
    "    np.random.seed()\n",
    "    x = np.random.uniform(-1, 1, darts)\n",
    "    y = np.random.uniform(-1, 1, darts)\n",
    "    r_sq = x**2 + y**2\n",
    "    queue.put(4*np.sum(r_sq<1)/darts)\n",
    "\n",
    "def calculate_pi_parallel(darts_per_process, Ncores):\n",
    "    \"\"\"use the serial function per-process; launch multiple processes\"\"\"\n",
    "    processes = []\n",
    "    queue = []\n",
    "\n",
    "    for i in range(Ncores):\n",
    "        q = multiprocessing.Queue()\n",
    "        p = Process(target=calculate_pi_serial, args=(darts_per_process,q))\n",
    "        p.start()\n",
    "        processes.append(p)\n",
    "        queue.append(q)\n",
    "    for p in processes:\n",
    "        p.join()\n",
    "        \n",
    "    total = 0\n",
    "    for q in queue:\n",
    "        total += q.get()\n",
    "    return np.sum(total)/Ncores"
   ]
  },
  {
   "cell_type": "code",
   "execution_count": 7,
   "id": "9884a1e3",
   "metadata": {},
   "outputs": [
    {
     "data": {
      "text/plain": [
       "3.1348000000000003"
      ]
     },
     "execution_count": 7,
     "metadata": {},
     "output_type": "execute_result"
    }
   ],
   "source": [
    "calculate_pi_parallel(2500, 4)"
   ]
  },
  {
   "cell_type": "code",
   "execution_count": 8,
   "id": "c61abae0",
   "metadata": {},
   "outputs": [
    {
     "name": "stdout",
     "output_type": "stream",
     "text": [
      "13.7 ms ± 17.5 µs per loop (mean ± std. dev. of 7 runs, 100 loops each)\n"
     ]
    }
   ],
   "source": [
    "%timeit calculate_pi_parallel(2500, 4)"
   ]
  },
  {
   "cell_type": "markdown",
   "id": "13a72ff5",
   "metadata": {},
   "source": [
    "# Parallelizing with multiprocessing.Pool"
   ]
  },
  {
   "cell_type": "markdown",
   "id": "1e115f61",
   "metadata": {},
   "source": [
    "Let's simplify the code a bit by using a Pool instead of a Process."
   ]
  },
  {
   "cell_type": "code",
   "execution_count": 9,
   "id": "0aa34fe7",
   "metadata": {},
   "outputs": [],
   "source": [
    "from multiprocessing import Pool"
   ]
  },
  {
   "cell_type": "code",
   "execution_count": 10,
   "id": "46287273",
   "metadata": {},
   "outputs": [],
   "source": [
    "def calculate_pi_serial(darts):\n",
    "    \"\"\"calculate pi and store it in a queue (serial function)\"\"\"\n",
    "    np.random.seed()\n",
    "    x = np.random.uniform(-1, 1, darts)\n",
    "    y = np.random.uniform(-1, 1, darts)\n",
    "    r_sq = x**2 + y**2\n",
    "    return 4*np.sum(r_sq<1)/darts\n",
    "\n",
    "def calculate_pi_parallel(darts_per_process, Ncores):\n",
    "    \"\"\"use the serial function per-process; launch multiple processes\"\"\"\n",
    "    with Pool(Ncores) as pool:\n",
    "        results = pool.map(calculate_pi_serial, [darts_per_process for i in range(Ncores)])\n",
    "\n",
    "    return np.sum(results)/Ncores"
   ]
  },
  {
   "cell_type": "code",
   "execution_count": 11,
   "id": "fd1f37d6",
   "metadata": {},
   "outputs": [
    {
     "data": {
      "text/plain": [
       "3.134"
      ]
     },
     "execution_count": 11,
     "metadata": {},
     "output_type": "execute_result"
    }
   ],
   "source": [
    "calculate_pi_parallel(2500, 4)"
   ]
  },
  {
   "cell_type": "code",
   "execution_count": 12,
   "id": "15d94f9c",
   "metadata": {},
   "outputs": [
    {
     "name": "stdout",
     "output_type": "stream",
     "text": [
      "13.7 ms ± 54 µs per loop (mean ± std. dev. of 7 runs, 100 loops each)\n"
     ]
    }
   ],
   "source": [
    "%timeit calculate_pi_parallel(2500, 4)"
   ]
  },
  {
   "cell_type": "markdown",
   "id": "e59e97ac",
   "metadata": {},
   "source": [
    "# Parallelization won't work well unless the problem is sufficiently difficult"
   ]
  },
  {
   "cell_type": "code",
   "execution_count": 13,
   "id": "ea1caf94",
   "metadata": {},
   "outputs": [],
   "source": [
    "N = 50_000_000"
   ]
  },
  {
   "cell_type": "code",
   "execution_count": 14,
   "id": "2356d235",
   "metadata": {},
   "outputs": [
    {
     "name": "stdout",
     "output_type": "stream",
     "text": [
      "1.31 s ± 301 µs per loop (mean ± std. dev. of 7 runs, 1 loop each)\n"
     ]
    }
   ],
   "source": [
    "# it takes about 1.3s to throw 50 mil darts\n",
    "%timeit calculate_pi_serial(N)"
   ]
  },
  {
   "cell_type": "code",
   "execution_count": 15,
   "id": "abee50d4",
   "metadata": {},
   "outputs": [
    {
     "name": "stdout",
     "output_type": "stream",
     "text": [
      "353 ms ± 382 µs per loop (mean ± std. dev. of 7 runs, 1 loop each)\n"
     ]
    }
   ],
   "source": [
    "# with 4 processors, you can throw 50 mil darts (12.5 mil each), in ~0.35 secs (~3.7 times faster)\n",
    "%timeit calculate_pi_parallel(N//4, 4)"
   ]
  },
  {
   "cell_type": "code",
   "execution_count": 16,
   "id": "46f56c1c",
   "metadata": {},
   "outputs": [
    {
     "name": "stdout",
     "output_type": "stream",
     "text": [
      "170 ms ± 683 µs per loop (mean ± std. dev. of 7 runs, 10 loops each)\n"
     ]
    }
   ],
   "source": [
    "# with 20 processors, it taks ~0.156 ms, which is only ~8.4 times faster than serial.\n",
    "# we would need to throw many more darts to get closer to 20X speedup with 20 processors\n",
    "%timeit calculate_pi_parallel(N//20, 20)"
   ]
  },
  {
   "cell_type": "markdown",
   "id": "07f370ed",
   "metadata": {},
   "source": [
    "# Scaling: weak vs strong"
   ]
  },
  {
   "cell_type": "code",
   "execution_count": 17,
   "id": "4c77f313",
   "metadata": {},
   "outputs": [],
   "source": [
    "from timeit import timeit\n",
    "import matplotlib.pyplot as plt"
   ]
  },
  {
   "cell_type": "code",
   "execution_count": 18,
   "id": "212a805b",
   "metadata": {},
   "outputs": [],
   "source": [
    "Ncores = range(1,21)\n",
    "times = np.array([timeit(lambda: calculate_pi_parallel(N//Nc, Nc), number=1) for Nc in Ncores])"
   ]
  },
  {
   "cell_type": "code",
   "execution_count": 19,
   "id": "f1a3567c",
   "metadata": {},
   "outputs": [
    {
     "data": {
      "text/plain": [
       "[<matplotlib.lines.Line2D at 0x7f7f761a48b0>]"
      ]
     },
     "execution_count": 19,
     "metadata": {},
     "output_type": "execute_result"
    },
    {
     "data": {
      "image/png": "[encoded data removed]",
      "text/plain": [
       "<Figure size 432x288 with 1 Axes>"
      ]
     },
     "metadata": {
      "needs_background": "light"
     },
     "output_type": "display_data"
    }
   ],
   "source": [
    "plt.plot(Ncores, times)"
   ]
  },
  {
   "cell_type": "code",
   "execution_count": 25,
   "id": "0f9eec08",
   "metadata": {},
   "outputs": [
    {
     "data": {
      "text/plain": [
       "<matplotlib.legend.Legend at 0x7f7f755de640>"
      ]
     },
     "execution_count": 25,
     "metadata": {},
     "output_type": "execute_result"
    },
    {
     "data": {
      "image/png": "[encoded data removed]",
      "text/plain": [
       "<Figure size 432x288 with 1 Axes>"
      ]
     },
     "metadata": {
      "needs_background": "light"
     },
     "output_type": "display_data"
    }
   ],
   "source": [
    "speedup = times[0]/times\n",
    "plt.plot(Ncores, speedup, 'o-', label='actual')\n",
    "plt.plot(Ncores, Ncores, 'o-', color='k', label='theoretical')\n",
    "plt.title('Computing pi by throwing 50 million darts in parallel')\n",
    "plt.gca().set(xlabel='Ncores', ylabel='speedup', xticks=Ncores, yticks=Ncores);\n",
    "plt.grid()\n",
    "plt.legend()"
   ]
  },
  {
   "cell_type": "code",
   "execution_count": 26,
   "id": "8988c659",
   "metadata": {},
   "outputs": [],
   "source": [
    "N = 1_000_000\n",
    "times = np.array([timeit(lambda: calculate_pi_parallel(N//Nc, Nc), number=1) for Nc in Ncores])"
   ]
  },
  {
   "cell_type": "code",
   "execution_count": 32,
   "id": "2d7d6b4d",
   "metadata": {},
   "outputs": [
    {
     "data": {
      "image/png": "[encoded data removed]",
      "text/plain": [
       "<Figure size 432x288 with 1 Axes>"
      ]
     },
     "metadata": {
      "needs_background": "light"
     },
     "output_type": "display_data"
    }
   ],
   "source": [
    "speedup = times[0]/times\n",
    "plt.plot(Ncores, speedup, 'o-', label='actual')\n",
    "plt.title('Computing pi by throwing 1 million darts in parallel')\n",
    "plt.gca().set(xlabel='Ncores', ylabel='speedup', xticks=Ncores);\n",
    "plt.grid()"
   ]
  },
  {
   "cell_type": "code",
   "execution_count": 39,
   "id": "72fab537",
   "metadata": {},
   "outputs": [],
   "source": [
    "N = 250_000_000\n",
    "times = np.array([timeit(lambda: calculate_pi_parallel(N//Nc, Nc), number=1) for Nc in Ncores])"
   ]
  },
  {
   "cell_type": "code",
   "execution_count": 40,
   "id": "6f78b94c",
   "metadata": {},
   "outputs": [
    {
     "data": {
      "text/plain": [
       "<matplotlib.legend.Legend at 0x7f7f752308e0>"
      ]
     },
     "execution_count": 40,
     "metadata": {},
     "output_type": "execute_result"
    },
    {
     "data": {
      "image/png": "[encoded data removed]",
      "text/plain": [
       "<Figure size 432x288 with 1 Axes>"
      ]
     },
     "metadata": {
      "needs_background": "light"
     },
     "output_type": "display_data"
    }
   ],
   "source": [
    "speedup = times[0]/times\n",
    "plt.plot(Ncores, speedup, 'o-', label='actual')\n",
    "plt.plot(Ncores, Ncores, 'o-', color='k', label='theoretical')\n",
    "plt.title('Computing pi by throwing 500 million darts in parallel')\n",
    "plt.gca().set(xlabel='Ncores', ylabel='speedup', xticks=Ncores);\n",
    "plt.grid()\n",
    "plt.legend()"
   ]
  },
  {
   "cell_type": "code",
   "execution_count": null,
   "id": "ad759cb8",
   "metadata": {},
   "outputs": [],
   "source": []
  }
 ],
 "metadata": {
  "kernelspec": {
   "display_name": "Python 3",
   "language": "python",
   "name": "python3"
  },
  "language_info": {
   "codemirror_mode": {
    "name": "ipython",
    "version": 3
   },
   "file_extension": ".py",
   "mimetype": "text/x-python",
   "name": "python",
   "nbconvert_exporter": "python",
   "pygments_lexer": "ipython3",
   "version": "3.8.8"
  }
 },
 "nbformat": 4,
 "nbformat_minor": 5
}
