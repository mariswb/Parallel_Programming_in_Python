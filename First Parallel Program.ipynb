{
 "cells": [
  {
   "cell_type": "code",
   "execution_count": 13,
   "id": "c842b372",
   "metadata": {},
   "outputs": [],
   "source": [
    "import multiprocessing\n",
    "from multiprocessing import Pool\n",
    "from time import sleep"
   ]
  },
  {
   "cell_type": "code",
   "execution_count": 14,
   "id": "42b6bab6",
   "metadata": {},
   "outputs": [
    {
     "name": "stdout",
     "output_type": "stream",
     "text": [
      "Architecture:        x86_64\r\n",
      "CPU op-mode(s):      32-bit, 64-bit\r\n",
      "Byte Order:          Little Endian\r\n",
      "CPU(s):              96\r\n",
      "On-line CPU(s) list: 0-95\r\n",
      "Thread(s) per core:  2\r\n",
      "Core(s) per socket:  24\r\n",
      "Socket(s):           2\r\n",
      "NUMA node(s):        2\r\n",
      "Vendor ID:           GenuineIntel\r\n",
      "CPU family:          6\r\n",
      "Model:               85\r\n",
      "Model name:          Intel(R) Xeon(R) Gold 6248R CPU @ 3.00GHz\r\n",
      "Stepping:            7\r\n",
      "CPU MHz:             3600.017\r\n",
      "CPU max MHz:         4000.0000\r\n",
      "CPU min MHz:         1200.0000\r\n",
      "BogoMIPS:            6000.00\r\n",
      "Virtualization:      VT-x\r\n",
      "L1d cache:           32K\r\n",
      "L1i cache:           32K\r\n",
      "L2 cache:            1024K\r\n",
      "L3 cache:            36608K\r\n",
      "NUMA node0 CPU(s):   0-23,48-71\r\n",
      "NUMA node1 CPU(s):   24-47,72-95\r\n",
      "Flags:               fpu vme de pse tsc msr pae mce cx8 apic sep mtrr pge mca cmov pat pse36 clflush dts acpi mmx fxsr sse sse2 ss ht tm pbe syscall nx pdpe1gb rdtscp lm constant_tsc art arch_perfmon pebs bts rep_good nopl xtopology nonstop_tsc cpuid aperfmperf pni pclmulqdq dtes64 ds_cpl vmx smx est tm2 ssse3 sdbg fma cx16 xtpr pdcm pcid dca sse4_1 sse4_2 x2apic movbe popcnt tsc_deadline_timer aes xsave avx f16c rdrand lahf_lm abm 3dnowprefetch cpuid_fault epb cat_l3 cdp_l3 invpcid_single intel_ppin ssbd mba ibrs ibpb stibp ibrs_enhanced tpr_shadow vnmi flexpriority ept vpid ept_ad fsgsbase tsc_adjust bmi1 hle avx2 smep bmi2 erms invpcid cqm mpx rdt_a avx512f avx512dq rdseed adx smap clflushopt clwb intel_pt avx512cd avx512bw avx512vl xsaveopt xsavec xgetbv1 xsaves cqm_llc cqm_occup_llc cqm_mbm_total cqm_mbm_local dtherm ida arat pln pts hwp hwp_act_window hwp_epp hwp_pkg_req pku ospke avx512_vnni md_clear flush_l1d arch_capabilities\r\n"
     ]
    }
   ],
   "source": [
    "!lscpu"
   ]
  },
  {
   "cell_type": "code",
   "execution_count": 15,
   "id": "f6b1e74a",
   "metadata": {},
   "outputs": [
    {
     "data": {
      "text/plain": [
       "96"
      ]
     },
     "execution_count": 15,
     "metadata": {},
     "output_type": "execute_result"
    }
   ],
   "source": [
    "multiprocessing.cpu_count()"
   ]
  },
  {
   "cell_type": "code",
   "execution_count": 31,
   "id": "fcd2f575",
   "metadata": {},
   "outputs": [],
   "source": [
    "def f(i):\n",
    "    name = multiprocessing.current_process().name\n",
    "    print(f'{name} is running\\n')\n",
    "    sleep(1)\n"
   ]
  },
  {
   "cell_type": "code",
   "execution_count": 34,
   "id": "854918f1",
   "metadata": {},
   "outputs": [
    {
     "name": "stdout",
     "output_type": "stream",
     "text": [
      "ForkPoolWorker-81 is running\n",
      "\n",
      "ForkPoolWorker-82 is running\n",
      "\n",
      "ForkPoolWorker-83 is running\n",
      "\n",
      "ForkPoolWorker-84 is running\n",
      "\n",
      "ForkPoolWorker-85 is running\n",
      "\n",
      "ForkPoolWorker-81 is running\n",
      "\n",
      "ForkPoolWorker-82 is running\n",
      "\n",
      "ForkPoolWorker-83 is running\n",
      "\n",
      "ForkPoolWorker-84 is running\n",
      "\n",
      "ForkPoolWorker-85 is running\n",
      "\n"
     ]
    }
   ],
   "source": [
    "with Pool(5) as pool:\n",
    "    for i in range(10):\n",
    "        pool.apply(f, (i,))"
   ]
  },
  {
   "cell_type": "code",
   "execution_count": 32,
   "id": "74d0109f",
   "metadata": {},
   "outputs": [
    {
     "name": "stdout",
     "output_type": "stream",
     "text": [
      "ForkPoolWorker-73 is running\n",
      "ForkPoolWorker-71 is running\n",
      "ForkPoolWorker-74 is running\n",
      "ForkPoolWorker-72 is running\n",
      "ForkPoolWorker-75 is running\n",
      "\n",
      "\n",
      "\n",
      "\n",
      "\n",
      "ForkPoolWorker-73 is running\n",
      "ForkPoolWorker-71 is running\n",
      "ForkPoolWorker-74 is running\n",
      "ForkPoolWorker-72 is running\n",
      "ForkPoolWorker-75 is running\n",
      "\n",
      "\n",
      "\n",
      "\n",
      "\n"
     ]
    }
   ],
   "source": [
    "with Pool(5) as pool:\n",
    "    pool.map(f, range(10))"
   ]
  },
  {
   "cell_type": "code",
   "execution_count": null,
   "id": "513e1208",
   "metadata": {},
   "outputs": [],
   "source": []
  }
 ],
 "metadata": {
  "kernelspec": {
   "display_name": "Python 3",
   "language": "python",
   "name": "python3"
  },
  "language_info": {
   "codemirror_mode": {
    "name": "ipython",
    "version": 3
   },
   "file_extension": ".py",
   "mimetype": "text/x-python",
   "name": "python",
   "nbconvert_exporter": "python",
   "pygments_lexer": "ipython3",
   "version": "3.8.8"
  }
 },
 "nbformat": 4,
 "nbformat_minor": 5
}
